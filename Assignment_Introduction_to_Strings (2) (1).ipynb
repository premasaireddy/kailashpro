{
 "cells": [
  {
   "cell_type": "markdown",
   "metadata": {
    "id": "uoGoqLiHFo3U"
   },
   "source": [
    "## <u>While doing this assignment only use those concepts which have been taught till now</u>"
   ]
  },
  {
   "cell_type": "markdown",
   "metadata": {
    "id": "LJJbprE6Fo3V"
   },
   "source": [
    "## <u>Problem 1</u>\n",
    "\n",
    "You are given a sentence which reads <b>\"Wikipedia is a free online encyclopedia, created and edited by volunteers around the world and hosted by the Wikimedia Foundation.\"</b>\n",
    "\n",
    "Find the number of words in the given sentence."
   ]
  },
  {
   "cell_type": "code",
   "execution_count": 1,
   "metadata": {
    "id": "bNs1w7lDFo3W"
   },
   "outputs": [],
   "source": [
    "# Store the given sentence in a variable\n",
    "sentence = \"Wikipedia is a free online encyclopedia, created and edited by volunteers around the world and hosted by the Wikimedia Foundation.\""
   ]
  },
  {
   "cell_type": "code",
   "execution_count": 2,
   "metadata": {
    "id": "0pwUoE0VFo3b"
   },
   "outputs": [],
   "source": [
    "# Calculate the total number of words in the sentence.  Hint : Use the count() method\n",
    "num_of_words = sentence.count(\" \")"
   ]
  },
  {
   "cell_type": "code",
   "execution_count": 3,
   "metadata": {
    "id": "Fb7lWgHY0g_X"
   },
   "outputs": [
    {
     "data": {
      "text/plain": [
       "19"
      ]
     },
     "execution_count": 3,
     "metadata": {},
     "output_type": "execute_result"
    }
   ],
   "source": [
    "# Print the variable num_of_words\n",
    "num_of_words"
   ]
  },
  {
   "cell_type": "markdown",
   "metadata": {
    "id": "KNwy8gqZFo3h"
   },
   "source": [
    "## <u>Problem 2 </u>\n",
    "\n",
    "Write a Python code which takes a number and returns a corresponding string of hyphens. For example if the number is 3, it will return '---' , if the number is 5 it will return '-----'"
   ]
  },
  {
   "cell_type": "code",
   "execution_count": 4,
   "metadata": {
    "colab": {
     "base_uri": "https://localhost:8080/",
     "height": 34
    },
    "id": "pA80LvUtFo3i",
    "outputId": "0e2e9b9d-0df5-43ae-aa8b-90fa80f2d8ad"
   },
   "outputs": [
    {
     "name": "stdout",
     "output_type": "stream",
     "text": [
      "3\n"
     ]
    }
   ],
   "source": [
    "# Store the user input in a variable\n",
    "inputted_number = int(input())"
   ]
  },
  {
   "cell_type": "code",
   "execution_count": 5,
   "metadata": {
    "id": "tX6VPyrQFo3m"
   },
   "outputs": [],
   "source": [
    "# Create a string of equivalent number of hyphens. Hint : remember what happens when we multiply string by a number?\n",
    "string_of_hyphens = '-'*inputted_number"
   ]
  },
  {
   "cell_type": "code",
   "execution_count": 6,
   "metadata": {
    "id": "AfJ1TmZVFo3s"
   },
   "outputs": [
    {
     "data": {
      "text/plain": [
       "'---'"
      ]
     },
     "execution_count": 6,
     "metadata": {},
     "output_type": "execute_result"
    }
   ],
   "source": [
    "# Print the string of hyphens\n",
    "string_of_hyphens"
   ]
  },
  {
   "cell_type": "markdown",
   "metadata": {
    "id": "hCG8HmhRFo3u"
   },
   "source": [
    "## <u> Problem 3 </u>\n",
    "\n",
    "A string can be called a safe bridge if it has no gaps in it i.e, no spaces. You are supposed to take an input from the user and print whether the string is a safe bridge or not."
   ]
  },
  {
   "cell_type": "code",
   "execution_count": 7,
   "metadata": {
    "id": "QLoggGagFo3x",
    "outputId": "64057984-6f30-4d8c-fc70-63140e1d6401"
   },
   "outputs": [
    {
     "name": "stdout",
     "output_type": "stream",
     "text": [
      "Almabetter\n"
     ]
    }
   ],
   "source": [
    "# Store the user input in a variable\n",
    "bridge = input()"
   ]
  },
  {
   "cell_type": "code",
   "execution_count": 8,
   "metadata": {
    "id": "Zv5UgGr8Fo31"
   },
   "outputs": [],
   "source": [
    "# Return True if the bridge is safe and False if the bridge is not safe. Hint : Use the find() method\n",
    "is_safe_bridge =\" \" in bridge "
   ]
  },
  {
   "cell_type": "code",
   "execution_count": 9,
   "metadata": {
    "id": "TBCckeOXFo35"
   },
   "outputs": [
    {
     "name": "stdout",
     "output_type": "stream",
     "text": [
      "It is True that the bridge is a safe bridge\n"
     ]
    }
   ],
   "source": [
    "# Fill in the blanks\n",
    "print(f\"It is {not(is_safe_bridge)} that the bridge is a safe bridge\" )"
   ]
  },
  {
   "cell_type": "markdown",
   "metadata": {
    "id": "IO-p2ILHFo37"
   },
   "source": [
    "## <u>Problem 4</u>\n",
    "\n",
    "Count the number of D's in a string inputted by the user. This will be <b>case insensitive</b>."
   ]
  },
  {
   "cell_type": "code",
   "execution_count": 10,
   "metadata": {
    "id": "CBqgtmkhFo38"
   },
   "outputs": [],
   "source": [
    "# Store the user input in a variable\n",
    "user_string = 'Debris was scattered all over the yard in the densest region of Denmark'"
   ]
  },
  {
   "cell_type": "code",
   "execution_count": 11,
   "metadata": {
    "id": "-nKePpRMFo3-"
   },
   "outputs": [],
   "source": [
    "# Store the count of letter D in the inputted string. Note this will be a case insensitive search\n",
    "D_counts = user_string.count(\"D\" and \"d\")"
   ]
  },
  {
   "cell_type": "code",
   "execution_count": 12,
   "metadata": {
    "id": "N9IXUH5AFo4A"
   },
   "outputs": [
    {
     "name": "stdout",
     "output_type": "stream",
     "text": [
      "The total occurrence of D in the user_string is 3\n"
     ]
    }
   ],
   "source": [
    "# Fill in the blanks\n",
    "print(f\"The total occurrence of D in the user_string is {D_counts}\")"
   ]
  },
  {
   "cell_type": "markdown",
   "metadata": {
    "id": "e40-mPXjFo4D"
   },
   "source": [
    "## <u>Problem 5</u>\n",
    "\n",
    "Check whether a given string is a palindrome. A palindrome is a word, number, phrase, or other sequence of characters which reads the same backward as forward, such as madam, racecar."
   ]
  },
  {
   "cell_type": "code",
   "execution_count": 13,
   "metadata": {
    "colab": {
     "base_uri": "https://localhost:8080/",
     "height": 34
    },
    "id": "qs0ZYZkzFo4D",
    "outputId": "0495ca1d-90ea-4cff-d6a3-52765ec9922d"
   },
   "outputs": [
    {
     "name": "stdout",
     "output_type": "stream",
     "text": [
      "palindrome\n"
     ]
    }
   ],
   "source": [
    "# Store the user input in a variable\n",
    "user_string = input()"
   ]
  },
  {
   "cell_type": "code",
   "execution_count": 14,
   "metadata": {
    "id": "OTVGL16NFo4G"
   },
   "outputs": [
    {
     "data": {
      "text/plain": [
       "False"
      ]
     },
     "execution_count": 14,
     "metadata": {},
     "output_type": "execute_result"
    }
   ],
   "source": [
    "# Print True if a string is a Palindrome else print false\n",
    "bool(user_string==user_string[-1::-1])"
   ]
  }
 ],
 "metadata": {
  "colab": {
   "collapsed_sections": [],
   "name": "Assignment -  Introduction to Strings.ipynb",
   "provenance": []
  },
  "kernelspec": {
   "display_name": "Python 3",
   "language": "python",
   "name": "python3"
  },
  "language_info": {
   "codemirror_mode": {
    "name": "ipython",
    "version": 3
   },
   "file_extension": ".py",
   "mimetype": "text/x-python",
   "name": "python",
   "nbconvert_exporter": "python",
   "pygments_lexer": "ipython3",
   "version": "3.8.5"
  }
 },
 "nbformat": 4,
 "nbformat_minor": 1
}
