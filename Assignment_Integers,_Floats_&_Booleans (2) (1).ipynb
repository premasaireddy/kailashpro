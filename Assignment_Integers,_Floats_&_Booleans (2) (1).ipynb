{
 "cells": [
  {
   "cell_type": "markdown",
   "metadata": {
    "id": "JRdjdmztDelX"
   },
   "source": [
    "## <u>While doing this assignment only use those concepts which have been taught till now</u>"
   ]
  },
  {
   "cell_type": "markdown",
   "metadata": {
    "id": "8ECk3jeWDelY"
   },
   "source": [
    "## <u>Problem 1</u>\n",
    "\n",
    "In a cricket tournament, based on the outcome of a particular match a team gets following points:\n",
    "* <code>wins</code> gets <code>3</code> points\n",
    "* <code>draws</code> gets <code>1</code> points\n",
    "* <code>losses</code> gets <code>0</code> points\n",
    "\n",
    "Team Aravali plays <code>8</code> matches in this tournament. It wins <code>4</code> matches, loses <code>3</code> matches and draws <code>1</code>. What is the total number of points gained by the Team Aravali?"
   ]
  },
  {
   "cell_type": "code",
   "execution_count": 6,
   "metadata": {
    "id": "m68YV3OhDelZ"
   },
   "outputs": [],
   "source": [
    "# The outcome variables are defined below\n",
    "wins = 4\n",
    "losses = 3\n",
    "draws = 1"
   ]
  },
  {
   "cell_type": "code",
   "execution_count": 7,
   "metadata": {
    "id": "2cnTsWvODelc"
   },
   "outputs": [
    {
     "name": "stdout",
     "output_type": "stream",
     "text": [
      "the total points gained by Team Aravali 13\n"
     ]
    }
   ],
   "source": [
    "# Calculate the total points gained by Team Aravali\n",
    "win_points_per_match=3\n",
    "loss_points_per_match=0\n",
    "draws_points_per_match=1\n",
    "aravali_points = wins*win_points_per_match+losses*loss_points_per_match+draws*draws_points_per_match\n",
    "print(\"the total points gained by Team Aravali\", aravali_points)"
   ]
  },
  {
   "cell_type": "code",
   "execution_count": 8,
   "metadata": {
    "id": "4ccas7cPDelf"
   },
   "outputs": [
    {
     "name": "stdout",
     "output_type": "stream",
     "text": [
      "total points  won by winning the match  12\n",
      "total points  won by losses the match  0\n",
      "total points  won by drawing the match  1\n"
     ]
    }
   ],
   "source": [
    "# Print the variable aravali_points\n",
    "print(\"total points  won by winning the match \", win_points_per_match*wins)\n",
    "print(\"total points  won by losses the match \", losses*loss_points_per_match)\n",
    "print(\"total points  won by drawing the match \", draws*draws_points_per_match)"
   ]
  },
  {
   "cell_type": "markdown",
   "metadata": {
    "id": "-ioInfYKDelh"
   },
   "source": [
    "## <u>Problem 2 </u>\n",
    "\n",
    "* Root of a function $f(x)$ is defined as the value $x$ where $f(x)=0$ \n",
    "* Consider a quadratic function $ f(x) = x^2 + 3x - 4$\n",
    "\n",
    "### Find the value of the function $f(x)$ at points   $x=2,x=-1, x=1$."
   ]
  },
  {
   "cell_type": "code",
   "execution_count": 27,
   "metadata": {
    "id": "4_HZwes5Delh"
   },
   "outputs": [],
   "source": [
    "# Calculate the value of the function f(x) at x = 2\n",
    "x=2\n",
    "func_evaluated_at_2 =x*x+3*x-4"
   ]
  },
  {
   "cell_type": "code",
   "execution_count": 26,
   "metadata": {
    "id": "zBkLIXk2Dell"
   },
   "outputs": [
    {
     "data": {
      "text/plain": [
       "0"
      ]
     },
     "execution_count": 26,
     "metadata": {},
     "output_type": "execute_result"
    }
   ],
   "source": [
    "# Print the value below\n",
    "func_evaluated_at_2"
   ]
  },
  {
   "cell_type": "code",
   "execution_count": 14,
   "metadata": {
    "id": "uD4MAyKIDelo"
   },
   "outputs": [],
   "source": [
    "# Calculate the value of the function f(x) at x = -1\n",
    "x=-1\n",
    "func_evaluated_at_minus1 = x*x+3*x-4"
   ]
  },
  {
   "cell_type": "code",
   "execution_count": 16,
   "metadata": {
    "id": "Jx9WVMQ2Delq"
   },
   "outputs": [
    {
     "data": {
      "text/plain": [
       "-6"
      ]
     },
     "execution_count": 16,
     "metadata": {},
     "output_type": "execute_result"
    }
   ],
   "source": [
    "# Print the value below\n",
    "func_evaluated_at_minus1"
   ]
  },
  {
   "cell_type": "code",
   "execution_count": 20,
   "metadata": {
    "id": "h8PgF85VDelu"
   },
   "outputs": [],
   "source": [
    "# Calculate the value of the function f(x) at x = 1\n",
    "x=1\n",
    "func_evaluated_at_1 = x*x+3*x-4"
   ]
  },
  {
   "cell_type": "code",
   "execution_count": 21,
   "metadata": {
    "id": "BdrFgug6Delw"
   },
   "outputs": [
    {
     "data": {
      "text/plain": [
       "0"
      ]
     },
     "execution_count": 21,
     "metadata": {},
     "output_type": "execute_result"
    }
   ],
   "source": [
    "# Print the type of the variable below\n",
    "func_evaluated_at_1"
   ]
  },
  {
   "cell_type": "markdown",
   "metadata": {
    "id": "EvldlcwqDelz"
   },
   "source": [
    "### Return the boolean for each value of $x$ to find out whether that value is a root of $f(x)$"
   ]
  },
  {
   "cell_type": "code",
   "execution_count": 22,
   "metadata": {
    "id": "-tUSAgzgDel0"
   },
   "outputs": [
    {
     "data": {
      "text/plain": [
       "False"
      ]
     },
     "execution_count": 22,
     "metadata": {},
     "output_type": "execute_result"
    }
   ],
   "source": [
    "# Check whether 2 is a root of f(x)\n",
    "func_evaluated_at_2 == 0"
   ]
  },
  {
   "cell_type": "code",
   "execution_count": 29,
   "metadata": {
    "id": "gsNS4Ki4Del2"
   },
   "outputs": [
    {
     "data": {
      "text/plain": [
       "False"
      ]
     },
     "execution_count": 29,
     "metadata": {},
     "output_type": "execute_result"
    }
   ],
   "source": [
    "# Check whether -1 is a root of f(x)\n",
    "func_evaluated_at_minus1==0"
   ]
  },
  {
   "cell_type": "code",
   "execution_count": 28,
   "metadata": {
    "id": "yExDY-ZXDel4"
   },
   "outputs": [
    {
     "data": {
      "text/plain": [
       "True"
      ]
     },
     "execution_count": 28,
     "metadata": {},
     "output_type": "execute_result"
    }
   ],
   "source": [
    "# Check whether 1 is a root of f(x)\n",
    "func_evaluated_at_1==0"
   ]
  },
  {
   "cell_type": "markdown",
   "metadata": {
    "id": "tNAI2AHRDel6"
   },
   "source": [
    "## <u> Problem 3 </u>\n",
    "\n",
    "A bag contains <code>45</code> apples, <code>65</code> oranges and <code>30</code> bananas. Find the percentage of each type of food items in the bag."
   ]
  },
  {
   "cell_type": "code",
   "execution_count": 30,
   "metadata": {
    "id": "XJ9Rq4P3Del7"
   },
   "outputs": [
    {
     "data": {
      "text/plain": [
       "32.142857142857146"
      ]
     },
     "execution_count": 30,
     "metadata": {},
     "output_type": "execute_result"
    }
   ],
   "source": [
    "# Calculate the percentage of apples and print the variable\n",
    "apples,oranges,bananas=45,65,30\n",
    "\n",
    "apples/(apples+oranges+bananas)*100"
   ]
  },
  {
   "cell_type": "code",
   "execution_count": 31,
   "metadata": {
    "id": "S6lJZtaXDel9"
   },
   "outputs": [
    {
     "data": {
      "text/plain": [
       "46.42857142857143"
      ]
     },
     "execution_count": 31,
     "metadata": {},
     "output_type": "execute_result"
    }
   ],
   "source": [
    "# Calculate the percentage of oranges and print the variable\n",
    "\n",
    "oranges/(apples+oranges+bananas)*100"
   ]
  },
  {
   "cell_type": "code",
   "execution_count": 32,
   "metadata": {
    "id": "mHzMnSZrDemB"
   },
   "outputs": [
    {
     "data": {
      "text/plain": [
       "21.428571428571427"
      ]
     },
     "execution_count": 32,
     "metadata": {},
     "output_type": "execute_result"
    }
   ],
   "source": [
    "# Calculate the percentage of bananas and print the variable\n",
    "\n",
    "bananas/(apples+oranges+bananas)*100"
   ]
  },
  {
   "cell_type": "markdown",
   "metadata": {
    "id": "F44LczfzDemD"
   },
   "source": [
    "## <u>Problem 4</u>\n",
    "\n",
    "You were playing a fun guessing game during your school break. There were a total of 100 participants excluding you. Out of these 100 people, 30 were Maths Majors, 45 were Economics Majors and 25 were Physics Majors.\n",
    "\n",
    "The game was divided into three rounds.\n",
    "\n",
    "* In the first round, you had to guess the number of Maths Majors and you <b>correctly</b> guessed 20 of them.\n",
    "* In the second round, you had to guess the number of Economics Majors and you <b>correctly</b> guessed 30 of them.\n",
    "* In the final third round, you had to guess the number of Physics Majors and you <b>correctly</b> guessed 20 of them.\n",
    "\n",
    "### Accuracy is defined as the number of correct guesses upon total number of people in the group (expressed in percentage)"
   ]
  },
  {
   "cell_type": "markdown",
   "metadata": {
    "id": "lkGEV_zpDemE"
   },
   "source": [
    "* ### Define your variables"
   ]
  },
  {
   "cell_type": "code",
   "execution_count": 33,
   "metadata": {
    "id": "OfXY9LcVDemF"
   },
   "outputs": [],
   "source": [
    "# Store the number of Maths majors\n",
    "\n",
    "maths_majors=30\n",
    "# Store the number of Economics majors\n",
    "economics_majors=45\n",
    "\n",
    "# Store the number of Physics majors\n",
    "\n",
    "Physics_majors=25\n",
    "# Store the number of your correct guesses of Maths majors\n",
    "\n",
    "correct_maths_majors=20\n",
    "# Store the number of your correct guesses of Economics majors\n",
    "\n",
    "correct_economics_majors=30\n",
    "# Store the number of your correct guesses of Physics majors\n",
    "correct_physics_majors=20"
   ]
  },
  {
   "cell_type": "markdown",
   "metadata": {
    "id": "Eg_Or6GmDemI"
   },
   "source": [
    "* ### Calculate your accuracy in each of the three rounds"
   ]
  },
  {
   "cell_type": "code",
   "execution_count": 34,
   "metadata": {
    "id": "QUbDKOR3DemJ"
   },
   "outputs": [
    {
     "data": {
      "text/plain": [
       "66.66666666666666"
      ]
     },
     "execution_count": 34,
     "metadata": {},
     "output_type": "execute_result"
    }
   ],
   "source": [
    "# Print the Maths accuracy\n",
    "\n",
    "correct_maths_majors/maths_majors*100"
   ]
  },
  {
   "cell_type": "code",
   "execution_count": 35,
   "metadata": {
    "id": "PfX4DowhDemM"
   },
   "outputs": [
    {
     "data": {
      "text/plain": [
       "66.66666666666666"
      ]
     },
     "execution_count": 35,
     "metadata": {},
     "output_type": "execute_result"
    }
   ],
   "source": [
    "# Print the Economics accuracy\n",
    "\n",
    "correct_economics_majors/economics_majors*100"
   ]
  },
  {
   "cell_type": "code",
   "execution_count": 36,
   "metadata": {
    "id": "ZV-hzGKCDemP"
   },
   "outputs": [
    {
     "data": {
      "text/plain": [
       "80.0"
      ]
     },
     "execution_count": 36,
     "metadata": {},
     "output_type": "execute_result"
    }
   ],
   "source": [
    "# Print the Physics accuracy\n",
    "\n",
    "correct_physics_majors/Physics_majors*100"
   ]
  },
  {
   "cell_type": "markdown",
   "metadata": {
    "id": "FvKZonnwDemS"
   },
   "source": [
    "* ### Calculate your overall accuracy in the entire game"
   ]
  },
  {
   "cell_type": "code",
   "execution_count": 37,
   "metadata": {
    "id": "eP3JkusLDemT"
   },
   "outputs": [
    {
     "data": {
      "text/plain": [
       "70.0"
      ]
     },
     "execution_count": 37,
     "metadata": {},
     "output_type": "execute_result"
    }
   ],
   "source": [
    "# Print the overall accuracy\n",
    "\n",
    "(correct_economics_majors+correct_maths_majors+correct_physics_majors)/(Physics_majors+economics_majors+maths_majors)*100"
   ]
  }
 ],
 "metadata": {
  "colab": {
   "name": "Assignment - Integers, Floats & Booleans.ipynb",
   "provenance": []
  },
  "kernelspec": {
   "display_name": "Python 3",
   "language": "python",
   "name": "python3"
  },
  "language_info": {
   "codemirror_mode": {
    "name": "ipython",
    "version": 3
   },
   "file_extension": ".py",
   "mimetype": "text/x-python",
   "name": "python",
   "nbconvert_exporter": "python",
   "pygments_lexer": "ipython3",
   "version": "3.8.5"
  }
 },
 "nbformat": 4,
 "nbformat_minor": 1
}
